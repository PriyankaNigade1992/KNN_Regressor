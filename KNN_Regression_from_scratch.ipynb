{
 "cells": [
  {
   "cell_type": "markdown",
   "id": "5f1d6261",
   "metadata": {},
   "source": [
    "### Algorithms for Data Science\n",
    "#### Linear Regression and kNN"
   ]
  },
  {
   "cell_type": "code",
   "execution_count": 38,
   "id": "cb3ff7c0",
   "metadata": {},
   "outputs": [],
   "source": [
    "import  pandas as pd\n",
    "from statistics import mean, variance\n",
    "from collections import Counter\n",
    "import math\n",
    "import numpy as np\n",
    "from scipy.stats import gmean\n",
    "from decimal import Decimal"
   ]
  },
  {
   "cell_type": "markdown",
   "id": "00221100",
   "metadata": {},
   "source": [
    "Consider the following data set for questions Q 1 ∼ Q 20 where<br>\n",
    "x column is the hours that a student studied, <br>\n",
    "y column is the hours that a student played video games, and <br>\n",
    "g is the GPA that the student received <br>\n",
    "\n",
    "x y g  <br>\n",
    "5 2 4  <br>\n",
    "6 5 3  <br>\n",
    "4 2 3  <br>\n",
    "3 3 3  <br>\n",
    "4 7 2  <br>\n",
    "3 6 2  <br>\n",
    "1 8 1  "
   ]
  },
  {
   "cell_type": "code",
   "execution_count": 2,
   "id": "13aa1645",
   "metadata": {},
   "outputs": [],
   "source": [
    "#features = [[5,2],[6,5],[4,2],[3,3],[4,7],[3,6],[1,8]]\n",
    "#y = [4,3,3,3,2,2,1]"
   ]
  },
  {
   "cell_type": "code",
   "execution_count": 3,
   "id": "d598f049",
   "metadata": {
    "scrolled": true
   },
   "outputs": [
    {
     "name": "stdout",
     "output_type": "stream",
     "text": [
      "   x  y  g\n",
      "0  5  2  4\n",
      "1  6  5  3\n",
      "2  4  2  3\n",
      "3  3  3  3\n",
      "4  4  7  2\n",
      "5  3  6  2\n",
      "6  1  8  1\n"
     ]
    }
   ],
   "source": [
    "# created train/ referance dataset from given values so that I can use the same code for any dataframe\n",
    "data = {'x': [5, 6, 4, 3, 4, 3, 1], 'y': [2, 5, 2, 3, 7, 6, 8], 'g': [4, 3 , 3, 3, 2, 2, 1]}  \n",
    "\n",
    "# Create DataFrame  \n",
    "df = pd.DataFrame(data)  \n",
    "train_set = df.copy()\n",
    "\n",
    "print(df) "
   ]
  },
  {
   "cell_type": "code",
   "execution_count": 4,
   "id": "13125bef",
   "metadata": {},
   "outputs": [],
   "source": [
    "# find the min max of the column to normalize the dataset\n",
    "def min_max_scaling(series):\n",
    "    return (series - series.min()) / (series.max() - series.min())"
   ]
  },
  {
   "cell_type": "code",
   "execution_count": 5,
   "id": "3e839603",
   "metadata": {},
   "outputs": [],
   "source": [
    "# Calculate the Euclidean distance L2 between two vectors\n",
    "def euclidean_distance(test_row, train_row):\n",
    "    distance = 0.0\n",
    "    for i in range(len(train_row)-1):\n",
    "        distance += (test_row[i] - train_row[i])**2\n",
    "    return math.sqrt(distance)"
   ]
  },
  {
   "cell_type": "code",
   "execution_count": 6,
   "id": "cbffe9a8",
   "metadata": {},
   "outputs": [],
   "source": [
    "#create function to calculate Manhattan distance \n",
    "def manhattan_distance(a, b):\n",
    "    distance = 0.0\n",
    "\n",
    "    for i in range(len(a)-1):\n",
    "        distance += abs(a[i] - b[i])\n",
    "    \n",
    "    return distance "
   ]
  },
  {
   "cell_type": "code",
   "execution_count": 7,
   "id": "bee75331",
   "metadata": {},
   "outputs": [],
   "source": [
    "# Function distance between two points\n",
    "\n",
    "def p_root(value, root):\n",
    "     \n",
    "    root_value = 1 / float(root)\n",
    "    return round (Decimal(value) **\n",
    "             Decimal(root_value), 3)"
   ]
  },
  {
   "cell_type": "code",
   "execution_count": 8,
   "id": "98202509",
   "metadata": {},
   "outputs": [],
   "source": [
    "#create function to calculate minkowski distance \n",
    "\n",
    "def minkowski_distance(x, y, p_value):\n",
    "   \n",
    "    # pass the p_root function to calculate\n",
    "    # all the value of vector parallelly\n",
    "    return (p_root(sum(pow(abs(a-b), p_value)\n",
    "            for a, b in zip(x, y)), p_value))\n"
   ]
  },
  {
   "cell_type": "code",
   "execution_count": 9,
   "id": "b08584b2",
   "metadata": {},
   "outputs": [],
   "source": [
    "def get_geometric_mean(data):\n",
    "    multiplication = 1\n",
    "    \n",
    "    cnt = len(data)\n",
    "\n",
    "    for ele in data:\n",
    "        multiplication = (multiplication)*(ele)\n",
    "\n",
    "    geometric_mean = (multiplication)**(1/cnt)\n",
    "    \n",
    "    return geometric_mean"
   ]
  },
  {
   "cell_type": "code",
   "execution_count": 10,
   "id": "5b17fb2c",
   "metadata": {},
   "outputs": [],
   "source": [
    "# Function to find arithmetic geometric mean\n",
    "def get_arithmetic_geometric_mean(lst, tolerance=1e-10):\n",
    "\n",
    "    a0 = mean(lst) # Get the arithmetic mean\n",
    "    g0 = gmean(lst) # Get the geomatric mean\n",
    "    \n",
    "    an, gn = (a0 + g0) / 2.0, math.sqrt(a0 * g0)\n",
    "    while abs(an - gn) > tolerance:\n",
    "        an, gn = (an + gn) / 2.0, math.sqrt(an * gn)\n",
    "    \n",
    "    return an"
   ]
  },
  {
   "cell_type": "code",
   "execution_count": 11,
   "id": "89a8cf2c",
   "metadata": {},
   "outputs": [],
   "source": [
    "# Function to get distance weighted neighbour\n",
    "def get_distance_weighted_neighbour(neighbors, p):\n",
    "    \n",
    "    # print('neighbors', neighbors)\n",
    "    wkNNPred = 0\n",
    "    wNN = [0]*len(neighbors)\n",
    "\n",
    "    for i in range(len(neighbors)):\n",
    "        # Get the distance value from list\n",
    "        distance = neighbors[i][1]\n",
    "        #print('neighbors[i][0][2]', neighbors[i][0][2])\n",
    "        \n",
    "        #Get the weighted distance for each neighbor\n",
    "        if distance == 0:  #To avoid divide by zero error\n",
    "            wNN[i] = 0\n",
    "        else:\n",
    "            wNN[i] = 1/(distance**p)\n",
    "            # multiply weighted distance by truth i.e Grade in our case and add them \n",
    "            truth = neighbors[i][0][2]\n",
    "            wkNNPred+= wNN[i]*truth    \n",
    "    \n",
    "    # Divide sum of (weighted distance*truth) by sum of weighted distance\n",
    "    if sum(wNN) > 0:  #To avoid divide by zero error (rare case)\n",
    "        return wkNNPred/sum(wNN)\n",
    "    else:\n",
    "        return 0\n",
    "\n",
    "    "
   ]
  },
  {
   "cell_type": "code",
   "execution_count": 12,
   "id": "4fcb50a1",
   "metadata": {},
   "outputs": [],
   "source": [
    "# Get the most similar neighbors\n",
    "def get_neighbors(train_set, test_row, k_neighbors, distancemethod, p, p_minkowski):\n",
    "    \n",
    "    distances = list()\n",
    "    neighbors = list()\n",
    "    \n",
    "    for train_row in train_set:\n",
    "        if(distancemethod == 'euclidean'):\n",
    "            dist = euclidean_distance(test_row, train_row)\n",
    "            distances.append((train_row, dist))\n",
    "            \n",
    "        elif(distancemethod == 'manhattan'):\n",
    "            \n",
    "            dist = manhattan_distance(test_row, train_row)\n",
    "            distances.append((train_row, dist))\n",
    "            \n",
    "        elif(distancemethod == 'minkowski'):           \n",
    "            # p_minkowski value needed\n",
    "            train_row_new = train_row[:-1]\n",
    "            dist = minkowski_distance(test_row, train_row_new, p_minkowski)\n",
    "            \n",
    "            #Library function does not accept .5 value\n",
    "            #dist = distance.minkowski(test_row, train_row_new, p)\n",
    "            distances.append((train_row, dist))\n",
    "            \n",
    "        else:\n",
    "            print('Please provide valid method to calculate distance')\n",
    "\n",
    "    # we can print the distances just to cross check our answer\n",
    "    #print('distances', distances)\n",
    "    \n",
    "    # sort the distances\n",
    "    distances.sort(key=lambda tup: tup[1])\n",
    "    \n",
    "    # if p>0 i]that means we have to calculated weighted distances  \n",
    "    if p > 0:\n",
    "        # using first k distances\n",
    "        kneighbor = distances[:k_neighbors]\n",
    "\n",
    "        #call function to calculate weighted distances   \n",
    "        predicted_val = get_distance_weighted_neighbour(kneighbor, p)\n",
    "        return predicted_val\n",
    "    \n",
    "    else:\n",
    "        for i in range(k_neighbors):\n",
    "            neighbors.append(distances[i][0])  \n",
    "    return neighbors"
   ]
  },
  {
   "cell_type": "code",
   "execution_count": 13,
   "id": "510245ab",
   "metadata": {},
   "outputs": [],
   "source": [
    "\n",
    "# Make a prediction with neighbors\n",
    "def predict_classification(train, test_row, k_neighbors, distancemethod, p, p_minkowski, averagemethod):\n",
    "    if p <= 0:\n",
    "        neighbors = get_neighbors(train, test_row, k_neighbors, distancemethod, p, p_minkowski)\n",
    "        \n",
    "        #Get all the grades of nearest neighbors\n",
    "        output_values = [row[-1] for row in neighbors]\n",
    "    \n",
    "        # Get the average of k nearest neighbores as per given method\n",
    "        if averagemethod == 'geometric average':\n",
    "            prediction = get_geometric_mean(output_values)\n",
    "            \n",
    "        elif averagemethod == 'arithmetic-geometric average':\n",
    "            prediction = get_arithmetic_geometric_mean(output_values)\n",
    "            \n",
    "        else:\n",
    "            prediction = round(mean(output_values), 2)\n",
    "            \n",
    "    else:\n",
    "        prediction = get_neighbors(train, test_row, k_neighbors, distancemethod, p, p_minkowski)\n",
    "            \n",
    "    return prediction"
   ]
  },
  {
   "cell_type": "code",
   "execution_count": 14,
   "id": "30eaede1",
   "metadata": {},
   "outputs": [],
   "source": [
    "# kNN Algorithm\n",
    "# Parameters \n",
    "    # train is the train dataset\n",
    "    # test is the test dataset\n",
    "    # k_neighbors = no. of numbers need to find out\n",
    "    # distancemethod = method for distance calculation\n",
    "    # p_minkowski for minkowski distance calculations\n",
    "    # p for weighted distance KNN\n",
    "    \n",
    "def get_nearest_neighbors_prediction(train, test, k_neighbors, distancemethod, p = 0, p_minkowski = 0, averagemethod = 'simple average'):\n",
    "      \n",
    "    train_list = train.values.tolist()\n",
    "  \n",
    "    predicted_output = predict_classification(train_list, test, k_neighbors, distancemethod, p, p_minkowski, averagemethod)\n",
    "\n",
    "    return round(predicted_output, 2)\n"
   ]
  },
  {
   "cell_type": "markdown",
   "id": "d580e2ab",
   "metadata": {},
   "source": [
    "#### Q 1. According to the nearest neighbor algorithm where Euclidean L2 distance is used, what is the expected GPA if x = 2 and y = 4?"
   ]
  },
  {
   "cell_type": "code",
   "execution_count": 15,
   "id": "12722241",
   "metadata": {},
   "outputs": [
    {
     "name": "stdout",
     "output_type": "stream",
     "text": [
      "   x  y  distance  g\n",
      "3  3  3      1.41  3\n",
      "5  3  6      2.24  2\n",
      "2  4  2      2.82  3\n",
      "0  5  2      3.60  4\n",
      "4  4  7      3.60  2\n",
      "1  6  5      4.12  3\n",
      "6  1  8      4.12  1\n",
      "\n",
      "\n",
      "For x = 2 and y = 4, index of expected gpa is 3 Expected GPA is: 3\n"
     ]
    }
   ],
   "source": [
    "#Manually calculated distance for x = 2 and y = 4 using Euclidean L2 method <br>  \n",
    "# We can print distances in function itself, but I dont want to print distances for every function is called so I am adding it here manually\n",
    "\n",
    "distances = {'x': [5, 6, 4, 3, 4, 3, 1], 'y': [2, 5, 2, 3, 7, 6, 8], 'distance': [3.60, 4.12 , 2.82, 1.41, 3.60, 2.24, 4.12], 'g': [4, 3 , 3, 3, 2, 2, 1]}  \n",
    "\n",
    "# Create DataFrame  \n",
    "distance_df = pd.DataFrame(distances)  \n",
    "distance_df = distance_df.sort_values(by=['distance'])\n",
    "print(distance_df) \n",
    "index = 3\n",
    "# From the result we can see the min distance is 1.41 which has grade 3 therfore the code should \n",
    "# return grade 3 for x = 2 and y = 4 \n",
    "\n",
    "# using the code to calculate distances\n",
    "test_set = [2, 4]\n",
    "\n",
    "predicted_GPA = get_nearest_neighbors_prediction(train_set, test_set, 1, distancemethod ='euclidean')\n",
    "\n",
    "print('\\n\\nFor x = 2 and y = 4, index of expected gpa is {0} Expected GPA is: {1}'.format(index, predicted_GPA))\n"
   ]
  },
  {
   "cell_type": "markdown",
   "id": "bed6e8fc",
   "metadata": {},
   "source": [
    "#### Q 2. According to the (k = 3)-NN algorithm where Euclidean L2 distance is used, what is the expected GPA if x = 2 and y = 4?"
   ]
  },
  {
   "cell_type": "code",
   "execution_count": 16,
   "id": "33cbbaf7",
   "metadata": {},
   "outputs": [
    {
     "name": "stdout",
     "output_type": "stream",
     "text": [
      "\n",
      "For x = 2 and y = 4, Expected GPA is: 2.67\n"
     ]
    }
   ],
   "source": [
    "test_set = [2, 4]\n",
    "\n",
    "predicted_GPA= get_nearest_neighbors_prediction(train_set, test_set, k_neighbors=3, distancemethod ='euclidean')\n",
    "\n",
    "print('\\nFor x = 2 and y = 4, Expected GPA is:' , predicted_GPA)\n"
   ]
  },
  {
   "cell_type": "markdown",
   "id": "97a92e00",
   "metadata": {},
   "source": [
    "####  Q 3. According to the (k = 5)-NN algorithm where Euclidean L2 distance is used, what is the expected GPA if x = 2 and y = 4?"
   ]
  },
  {
   "cell_type": "code",
   "execution_count": 17,
   "id": "1b1fcc08",
   "metadata": {},
   "outputs": [
    {
     "name": "stdout",
     "output_type": "stream",
     "text": [
      "\n",
      "For x = 2 and y = 4, Expected GPA is: 2.8\n"
     ]
    }
   ],
   "source": [
    "test_set = [2, 4]\n",
    "\n",
    "predicted_GPA= get_nearest_neighbors_prediction(train_set, test_set, k_neighbors=5, distancemethod ='euclidean')\n",
    "\n",
    "print('\\nFor x = 2 and y = 4, Expected GPA is:' , predicted_GPA)\n"
   ]
  },
  {
   "cell_type": "markdown",
   "id": "0b7516b3",
   "metadata": {},
   "source": [
    "#### Q 4. According to the geometric average (k = 3)-NN algorithm where Euclidean L2 distance is used, what is the expected GPA if x = 2 and y = 4?"
   ]
  },
  {
   "cell_type": "code",
   "execution_count": 18,
   "id": "3c143ae2",
   "metadata": {},
   "outputs": [
    {
     "name": "stdout",
     "output_type": "stream",
     "text": [
      "\n",
      "For x = 2 and y = 4, Expected GPA is: 2.62\n"
     ]
    }
   ],
   "source": [
    "test_set = [2, 4]\n",
    "\n",
    "predicted_GPA= get_nearest_neighbors_prediction(train_set, test_set, k_neighbors=3, distancemethod ='euclidean', averagemethod='geometric average')\n",
    "\n",
    "print('\\nFor x = 2 and y = 4, Expected GPA is:' , predicted_GPA)\n"
   ]
  },
  {
   "cell_type": "markdown",
   "id": "332f0137",
   "metadata": {},
   "source": [
    "#### Q 5. According to the arithmetic-geometric average (k = 3)-NN algorithm where Euclidean L2 distance is used, what is the expected GPA if x = 2 and y = 4?"
   ]
  },
  {
   "cell_type": "code",
   "execution_count": 19,
   "id": "e17fe3d2",
   "metadata": {},
   "outputs": [
    {
     "name": "stdout",
     "output_type": "stream",
     "text": [
      "\n",
      " For x = 2 and y = 4, Expected GPA is: 2.64\n"
     ]
    }
   ],
   "source": [
    "test_set = [2, 4]\n",
    "\n",
    "predicted_GPA= get_nearest_neighbors_prediction(train_set, test_set, k_neighbors=3, distancemethod ='euclidean', averagemethod='arithmetic-geometric average')\n",
    "\n",
    "print('\\n For x = 2 and y = 4, Expected GPA is:' , predicted_GPA)\n"
   ]
  },
  {
   "cell_type": "markdown",
   "id": "335119f7",
   "metadata": {},
   "source": [
    "#### Q 6. According to the (p = 2) distance weighted (k = 5)-NN algorithm where Euclidean L2 distance is used, what is the expected GPA if x = 2 and y = 4?"
   ]
  },
  {
   "cell_type": "code",
   "execution_count": 20,
   "id": "605a7509",
   "metadata": {},
   "outputs": [
    {
     "name": "stdout",
     "output_type": "stream",
     "text": [
      "\n",
      "For x = 2 and y = 4, distance weighted Expected GPA is: 2.8\n"
     ]
    }
   ],
   "source": [
    "test_set = [2, 4]\n",
    "\n",
    "predicted_GPA= get_nearest_neighbors_prediction(train_set, test_set, k_neighbors=5, distancemethod ='euclidean', p=2)\n",
    "\n",
    "print('\\nFor x = 2 and y = 4, distance weighted Expected GPA is:' , predicted_GPA)\n"
   ]
  },
  {
   "cell_type": "markdown",
   "id": "9546080d",
   "metadata": {},
   "source": [
    "#### Q 7. According to the (p = 3) distance weighted (k = 5)-NN algorithm where Euclidean L2 distance is used, what is the expected GPA if x = 2 and y = 4?"
   ]
  },
  {
   "cell_type": "code",
   "execution_count": 21,
   "id": "700741ef",
   "metadata": {},
   "outputs": [
    {
     "name": "stdout",
     "output_type": "stream",
     "text": [
      "\n",
      "For x = 2 and y = 4, distance weighted Expected GPA is: 2.83\n"
     ]
    }
   ],
   "source": [
    "test_set = [2, 4]\n",
    "\n",
    "predicted_GPA= get_nearest_neighbors_prediction(train_set, test_set, k_neighbors=5, distancemethod ='euclidean', p= 3)\n",
    "\n",
    "print('\\nFor x = 2 and y = 4, distance weighted Expected GPA is:' , predicted_GPA)\n"
   ]
  },
  {
   "cell_type": "markdown",
   "id": "2143a115",
   "metadata": {},
   "source": [
    "#### Q 8. According to the (k = 3)-NN algorithm where Manhattan L1 distance is used, what is the expected GPA if x = 6 and y = 2?\n"
   ]
  },
  {
   "cell_type": "code",
   "execution_count": 22,
   "id": "a4123777",
   "metadata": {},
   "outputs": [
    {
     "name": "stdout",
     "output_type": "stream",
     "text": [
      "\n",
      "For x = 6 and y = 2, Expected GPA is: 3.33\n"
     ]
    }
   ],
   "source": [
    "query_set = [6, 2]\n",
    "\n",
    "predicted_GPA= get_nearest_neighbors_prediction(train_set, query_set, k_neighbors=3, distancemethod ='manhattan')\n",
    "\n",
    "print('\\nFor x = 6 and y = 2, Expected GPA is:' , predicted_GPA)\n"
   ]
  },
  {
   "cell_type": "markdown",
   "id": "7f7be06e",
   "metadata": {},
   "source": [
    "#### Q 9. According to the (k = 5)-NN algorithm where Manhattan L1 distance is used, what is the expected GPA if x = 6 and y = 2?"
   ]
  },
  {
   "cell_type": "code",
   "execution_count": 23,
   "id": "b4cd4095",
   "metadata": {},
   "outputs": [
    {
     "name": "stdout",
     "output_type": "stream",
     "text": [
      "\n",
      "For x = 6 and y = 2, Expected GPA is: 3\n"
     ]
    }
   ],
   "source": [
    "query_set = [6, 2]\n",
    "\n",
    "predicted_GPA= get_nearest_neighbors_prediction(train_set, query_set, k_neighbors=5, distancemethod ='manhattan')\n",
    "\n",
    "print('\\nFor x = 6 and y = 2, Expected GPA is:' , predicted_GPA)\n"
   ]
  },
  {
   "cell_type": "markdown",
   "id": "24bdbc1e",
   "metadata": {},
   "source": [
    "#### Q 10. According to the (p = 2) distance weighted (k = 5)-NN algorithm where Manhattan L1 distance is used, what is the expected GPA if x = 6 and y = 2?"
   ]
  },
  {
   "cell_type": "code",
   "execution_count": 24,
   "id": "2fb3743d",
   "metadata": {},
   "outputs": [
    {
     "name": "stdout",
     "output_type": "stream",
     "text": [
      "\n",
      "For x = 6 and y = 2, distance weighted Expected GPA is: 3.47\n"
     ]
    }
   ],
   "source": [
    "query_set = [6, 2]\n",
    "\n",
    "predicted_GPA= get_nearest_neighbors_prediction(train_set, query_set, k_neighbors=5, distancemethod ='manhattan', p=2)\n",
    "\n",
    "print('\\nFor x = 6 and y = 2, distance weighted Expected GPA is:' , predicted_GPA)\n"
   ]
  },
  {
   "cell_type": "markdown",
   "id": "e0380612",
   "metadata": {},
   "source": [
    "#### Q 11. What does the (p = 3) distance weighted (k = 5)-NN algorithm classifies a query instance (6, 2) if Manhattan L1 distance is used."
   ]
  },
  {
   "cell_type": "code",
   "execution_count": 25,
   "id": "fae4e8d9",
   "metadata": {},
   "outputs": [
    {
     "name": "stdout",
     "output_type": "stream",
     "text": [
      "\n",
      "For x = 6 and y = 2, Expected GPA is: 3.68\n"
     ]
    }
   ],
   "source": [
    "query_set = [6, 2]\n",
    "\n",
    "predicted_GPA= get_nearest_neighbors_prediction(train_set, query_set, k_neighbors=5, distancemethod ='manhattan', p=3)\n",
    "\n",
    "print('\\nFor x = 6 and y = 2, Expected GPA is:' , predicted_GPA)\n"
   ]
  },
  {
   "cell_type": "markdown",
   "id": "7c4939ce",
   "metadata": {},
   "source": [
    "#### Q 12. According to the (k = 3)-NN algorithm where Minkowski (p = 3) L3 distance is used, what is the expected GPA  if x = 6 and y = 2?\n"
   ]
  },
  {
   "cell_type": "code",
   "execution_count": 26,
   "id": "d71db4d8",
   "metadata": {},
   "outputs": [
    {
     "name": "stdout",
     "output_type": "stream",
     "text": [
      "\n",
      "For x = 6 and y = 2, Expected GPA is: 3.33\n"
     ]
    }
   ],
   "source": [
    "query_set = [6, 2]\n",
    "\n",
    "predicted_GPA= get_nearest_neighbors_prediction(train_set, query_set, k_neighbors=3, distancemethod ='minkowski', p_minkowski=3)\n",
    "\n",
    "print('\\nFor x = 6 and y = 2, Expected GPA is:' , predicted_GPA)\n",
    "\n"
   ]
  },
  {
   "cell_type": "markdown",
   "id": "9b1a26b0",
   "metadata": {},
   "source": [
    "#### Q 13. Normalize the dataset using the simple min-max normalization"
   ]
  },
  {
   "cell_type": "code",
   "execution_count": 27,
   "id": "95b99245",
   "metadata": {},
   "outputs": [
    {
     "name": "stdout",
     "output_type": "stream",
     "text": [
      "\n",
      " normalized traindf with query value at 7th position\n",
      "\n",
      "     x         y    g\n",
      "0  0.8  0.000000  4.0\n",
      "1  1.0  0.500000  3.0\n",
      "2  0.6  0.000000  3.0\n",
      "3  0.4  0.166667  3.0\n",
      "4  0.6  0.833333  2.0\n",
      "5  0.4  0.666667  2.0\n",
      "6  0.0  1.000000  1.0\n",
      "7  1.0  0.000000  NaN\n",
      "\n",
      "\n"
     ]
    },
    {
     "data": {
      "text/html": [
       "<div>\n",
       "<style scoped>\n",
       "    .dataframe tbody tr th:only-of-type {\n",
       "        vertical-align: middle;\n",
       "    }\n",
       "\n",
       "    .dataframe tbody tr th {\n",
       "        vertical-align: top;\n",
       "    }\n",
       "\n",
       "    .dataframe thead th {\n",
       "        text-align: right;\n",
       "    }\n",
       "</style>\n",
       "<table border=\"1\" class=\"dataframe\">\n",
       "  <thead>\n",
       "    <tr style=\"text-align: right;\">\n",
       "      <th></th>\n",
       "      <th>x</th>\n",
       "      <th>y</th>\n",
       "      <th>g</th>\n",
       "    </tr>\n",
       "  </thead>\n",
       "  <tbody>\n",
       "    <tr>\n",
       "      <th>0</th>\n",
       "      <td>0.8</td>\n",
       "      <td>0.000000</td>\n",
       "      <td>4.0</td>\n",
       "    </tr>\n",
       "    <tr>\n",
       "      <th>1</th>\n",
       "      <td>1.0</td>\n",
       "      <td>0.500000</td>\n",
       "      <td>3.0</td>\n",
       "    </tr>\n",
       "    <tr>\n",
       "      <th>2</th>\n",
       "      <td>0.6</td>\n",
       "      <td>0.000000</td>\n",
       "      <td>3.0</td>\n",
       "    </tr>\n",
       "    <tr>\n",
       "      <th>3</th>\n",
       "      <td>0.4</td>\n",
       "      <td>0.166667</td>\n",
       "      <td>3.0</td>\n",
       "    </tr>\n",
       "    <tr>\n",
       "      <th>4</th>\n",
       "      <td>0.6</td>\n",
       "      <td>0.833333</td>\n",
       "      <td>2.0</td>\n",
       "    </tr>\n",
       "    <tr>\n",
       "      <th>5</th>\n",
       "      <td>0.4</td>\n",
       "      <td>0.666667</td>\n",
       "      <td>2.0</td>\n",
       "    </tr>\n",
       "    <tr>\n",
       "      <th>6</th>\n",
       "      <td>0.0</td>\n",
       "      <td>1.000000</td>\n",
       "      <td>1.0</td>\n",
       "    </tr>\n",
       "  </tbody>\n",
       "</table>\n",
       "</div>"
      ],
      "text/plain": [
       "     x         y    g\n",
       "0  0.8  0.000000  4.0\n",
       "1  1.0  0.500000  3.0\n",
       "2  0.6  0.000000  3.0\n",
       "3  0.4  0.166667  3.0\n",
       "4  0.6  0.833333  2.0\n",
       "5  0.4  0.666667  2.0\n",
       "6  0.0  1.000000  1.0"
      ]
     },
     "execution_count": 27,
     "metadata": {},
     "output_type": "execute_result"
    }
   ],
   "source": [
    "# normalize the each colum of dataset expect truth i.e 'g' using simple min max scale\n",
    "\n",
    "normalized_traindf = train_set.copy()\n",
    "# adding query to dataframe to normalize it\n",
    "query_df = {'x': 6, 'y': 2}\n",
    "\n",
    "normalized_traindf = normalized_traindf.append(query_df, ignore_index = True)\n",
    "print('\\n normalized traindf with query value at 7th position\\n')\n",
    "for col in normalized_traindf.columns:\n",
    "    if col != 'g':\n",
    "        normalized_traindf[col] = min_max_scaling(normalized_traindf[col])\n",
    "print(normalized_traindf)\n",
    "\n",
    "# delete test set from train set\n",
    "normalized_traindf = normalized_traindf.drop(labels=7, axis=0)\n",
    "print('\\n')\n",
    "#print normalized data set\n",
    "normalized_traindf"
   ]
  },
  {
   "cell_type": "markdown",
   "id": "b0f0a04d",
   "metadata": {},
   "source": [
    "#### Q 14. According to the (k = 3)-NN algorithm where Euclidean L2 distance is used on the normalized dataset in Q 13, what is the expected GPA if x = 6 and y = 2?"
   ]
  },
  {
   "cell_type": "code",
   "execution_count": 28,
   "id": "8ab51079",
   "metadata": {},
   "outputs": [
    {
     "name": "stdout",
     "output_type": "stream",
     "text": [
      "\n",
      "For x = 6 and y = 2, using normalized query values - Expected GPA is: 3.33\n",
      "\n",
      "\n",
      "For x = 6 and y = 2, using original query values - Expected GPA is: 3.33\n"
     ]
    }
   ],
   "source": [
    "query_set = [6, 2]\n",
    "normalized_query_set = [1, 0]\n",
    "\n",
    "predicted_GPA= get_nearest_neighbors_prediction(train_set, normalized_query_set, k_neighbors=3, distancemethod ='euclidean')\n",
    "\n",
    "print('\\nFor x = 6 and y = 2, using normalized query values - Expected GPA is:' , predicted_GPA)\n",
    "\n",
    "predicted_GPA1= get_nearest_neighbors_prediction(train_set, query_set, k_neighbors=3, distancemethod ='euclidean')\n",
    "\n",
    "print('\\n\\nFor x = 6 and y = 2, using original query values - Expected GPA is:' , predicted_GPA1)\n",
    "\n",
    "# Getting same expected GPA for both normalized and original values of query\n"
   ]
  },
  {
   "cell_type": "markdown",
   "id": "12ce4c01",
   "metadata": {},
   "source": [
    "#### Q 15. According to the (k = 5)-NN algorithm where Euclidean L2 distance is used on the normalized dataset in Q 13, what is the expected GPA if x = 6 and y = 2?"
   ]
  },
  {
   "cell_type": "code",
   "execution_count": 29,
   "id": "4b990345",
   "metadata": {},
   "outputs": [
    {
     "name": "stdout",
     "output_type": "stream",
     "text": [
      "\n",
      "For x = 6 and y = 2, using normalized query values - Expected GPA is: 3\n",
      "\n",
      "\n",
      "For x = 6 and y = 2, using original query values - Expected GPA is: 3\n"
     ]
    }
   ],
   "source": [
    "query_set = [6, 2]\n",
    "normalized_query_set = [1, 0]\n",
    "\n",
    "predicted_GPA= get_nearest_neighbors_prediction(train_set, normalized_query_set, k_neighbors=5, distancemethod ='euclidean')\n",
    "\n",
    "print('\\nFor x = 6 and y = 2, using normalized query values - Expected GPA is:' , predicted_GPA)\n",
    "\n",
    "predicted_GPA1= get_nearest_neighbors_prediction(train_set, query_set, k_neighbors=5, distancemethod ='euclidean')\n",
    "\n",
    "print('\\n\\nFor x = 6 and y = 2, using original query values - Expected GPA is:' , predicted_GPA1)\n",
    "\n"
   ]
  },
  {
   "cell_type": "markdown",
   "id": "f51c816a",
   "metadata": {},
   "source": [
    "#### Q 16. According to the (p = 2) distance weighted (k = 5)-NN algorithm where Euclidean L2 distance is used on the normalized dataset in Q 13, what is the expected GPA if x = 6 and y = 2?"
   ]
  },
  {
   "cell_type": "code",
   "execution_count": 30,
   "id": "90ba9954",
   "metadata": {},
   "outputs": [
    {
     "name": "stdout",
     "output_type": "stream",
     "text": [
      "\n",
      "For x = 6 and y = 2, distance weighted Expected GPA is: 3.1\n"
     ]
    }
   ],
   "source": [
    "query_set = [6, 2]\n",
    "normalized_query_set = [1, 0]\n",
    "\n",
    "predicted_GPA= get_nearest_neighbors_prediction(train_set, normalized_query_set, k_neighbors=5, distancemethod ='euclidean', p=2)\n",
    "\n",
    "print('\\nFor x = 6 and y = 2, distance weighted Expected GPA is:' , predicted_GPA)\n"
   ]
  },
  {
   "cell_type": "markdown",
   "id": "cebc9769",
   "metadata": {},
   "source": [
    "#### Q 17. According to the (k = 5)-NN algorithm where Manhattan L1 distance is used on the normalized dataset in Q 13, what is the expected GPA if x = 6 and y = 2?"
   ]
  },
  {
   "cell_type": "code",
   "execution_count": 31,
   "id": "25bc49e3",
   "metadata": {},
   "outputs": [
    {
     "name": "stdout",
     "output_type": "stream",
     "text": [
      "\n",
      "For x = 6 and y = 2, Expected GPA is: 2.2\n"
     ]
    }
   ],
   "source": [
    "query_set = [6, 2]\n",
    "normalized_query_set = [1, 0]\n",
    "\n",
    "predicted_GPA= get_nearest_neighbors_prediction(train_set, normalized_query_set, k_neighbors=5, distancemethod ='manhattan')\n",
    "\n",
    "print('\\nFor x = 6 and y = 2, Expected GPA is:' , predicted_GPA)\n"
   ]
  },
  {
   "cell_type": "markdown",
   "id": "212825c6",
   "metadata": {},
   "source": [
    "### Functions to calculate residual for Q18-Q20"
   ]
  },
  {
   "cell_type": "code",
   "execution_count": 32,
   "id": "138a0c43",
   "metadata": {},
   "outputs": [],
   "source": [
    "def predict_regression(train_set, test_row, k_neighbors, test_row_index, p):\n",
    "    distances = list()\n",
    "    neighbors = list()\n",
    "     \n",
    "    for train_row in train_set:\n",
    "        train_row_index = train_set.index(train_row)\n",
    "        \n",
    "        #check if train index != test index\n",
    "        if train_row_index != test_row_index:\n",
    "            dist = euclidean_distance(test_row, train_row)\n",
    "            distances.append((train_row, dist))\n",
    "    \n",
    "    #print('distances', distances)\n",
    "    \n",
    "    # sort the distances\n",
    "    distances.sort(key=lambda tup: tup[1])\n",
    "    \n",
    "    # if p>0 i]that means we have to calculated weighted distances  \n",
    "    if p > 0:\n",
    "        # using first k distances\n",
    "        kneighbor = distances[:k_neighbors]\n",
    "\n",
    "        #call function to calculate weighted distances   \n",
    "        prediction = get_distance_weighted_neighbour(kneighbor, p)\n",
    "    \n",
    "    else:\n",
    "        for i in range(k_neighbors):\n",
    "            neighbors.append(distances[i][0])\n",
    "        \n",
    "        output_values = [row[-1] for row in neighbors]         \n",
    "        prediction = round(mean(output_values), 2)\n",
    "    \n",
    "    return prediction      \n",
    "    "
   ]
  },
  {
   "cell_type": "code",
   "execution_count": 33,
   "id": "c8b1b34d",
   "metadata": {},
   "outputs": [],
   "source": [
    "def compute_rsquare(test_set_predictions, no_of_attr, p, residual_type):\n",
    "    sum = 0\n",
    "    n = len(test_set_predictions)\n",
    "     # Iterate all rows using DataFrame.iterrows()\n",
    "    for index, row in test_set_predictions.iterrows():\n",
    "        # avarage of (Actual - predicted)**2\n",
    "        sum+= (row['predicted'] - row['g'])**2\n",
    "        \n",
    "        avg = sum/n\n",
    "        #calculate sample variance of actual grades\n",
    "        svar = variance(test_set_predictions['g'])\n",
    "        \n",
    "    if residual_type == 'rsquare':\n",
    "        residual_val = 1 - (avg/svar)\n",
    "    else:\n",
    "        \n",
    "        ssr = avg/(n-no_of_attr-1)\n",
    "        ssd = svar/(n-1)\n",
    "        residual_val = ssr/ssd\n",
    "      \n",
    "    return residual_val"
   ]
  },
  {
   "cell_type": "code",
   "execution_count": 34,
   "id": "2b168637",
   "metadata": {},
   "outputs": [],
   "source": [
    "# kNN Algorithm\n",
    "# Parameters \n",
    "    # train is the train dataset\n",
    "    # test is the test dataset\n",
    "    # k_neighbors = no. of numbers need to find out\n",
    "    # p = power for weighted distance\n",
    "    # residual_type = rsquare or adjusted residual default is rsquare\n",
    "    \n",
    "def get_residual(train, test, k_neighbors, p = 0, residual_type = 'rsquare'):\n",
    "    if 'predicted' in test.columns:\n",
    "        test = test.drop(['predicted'], axis = 1)\n",
    "    \n",
    "    predictions = list()\n",
    "    \n",
    "    train_list = train.values.tolist()\n",
    "    test_list = test.values.tolist()\n",
    "    \n",
    "    for row in test_list:\n",
    "        test_row_index = test_list.index(row)\n",
    "        output = predict_regression(train_list, row, k_neighbors,test_row_index, p)\n",
    "        predictions.append(output)\n",
    "    \n",
    "    test_set_predictions = train.copy()\n",
    "    test_set_predictions['predicted'] = predictions\n",
    "    print('\\nDataset with Predicted values\\n')\n",
    "    print(test_set_predictions)\n",
    "    # print(type(test_set_predictions)\n",
    "    \n",
    "    no_of_attr = len(train.columns)-1\n",
    "    \n",
    "    rsquare_val = compute_rsquare(test_set_predictions, no_of_attr, p, residual_type)\n",
    "    print('\\n=============================================')\n",
    "    print('Computed {0} R^2 value'.format(residual_type))\n",
    "    print('=============================================')\n",
    "    \n",
    "    print(round(rsquare_val,2))"
   ]
  },
  {
   "cell_type": "markdown",
   "id": "b8cf7b19",
   "metadata": {},
   "source": [
    "#### Q 18. Using the leave one out method, find the residual, R2 of the nearest neighbor algorithm"
   ]
  },
  {
   "cell_type": "code",
   "execution_count": 35,
   "id": "87312190",
   "metadata": {},
   "outputs": [
    {
     "name": "stdout",
     "output_type": "stream",
     "text": [
      "\n",
      "Dataset with Predicted values\n",
      "\n",
      "   x  y  g  predicted\n",
      "0  5  2  4          3\n",
      "1  6  5  3          2\n",
      "2  4  2  3          4\n",
      "3  3  3  3          3\n",
      "4  4  7  2          2\n",
      "5  3  6  2          2\n",
      "6  1  8  1          2\n",
      "\n",
      "=============================================\n",
      "Computed rsquare R^2 value\n",
      "=============================================\n",
      "0.4\n"
     ]
    }
   ],
   "source": [
    "test_set1 = train_set.copy()\n",
    "\n",
    "rSquare_residual = get_residual(train_set, test_set1, 1)\n"
   ]
  },
  {
   "cell_type": "markdown",
   "id": "1a102091",
   "metadata": {},
   "source": [
    "#### Q 19. Using the leave one out method, find the residual, R2 of the (k = 3)-NN algorithm."
   ]
  },
  {
   "cell_type": "code",
   "execution_count": 36,
   "id": "2c5458fd",
   "metadata": {},
   "outputs": [
    {
     "name": "stdout",
     "output_type": "stream",
     "text": [
      "\n",
      "Dataset with Predicted values\n",
      "\n",
      "   x  y  g  predicted\n",
      "0  5  2  4       3.00\n",
      "1  6  5  3       2.67\n",
      "2  4  2  3       3.33\n",
      "3  3  3  3       3.00\n",
      "4  4  7  2       2.00\n",
      "5  3  6  2       2.00\n",
      "6  1  8  1       2.33\n",
      "\n",
      "=============================================\n",
      "Computed rsquare R^2 value\n",
      "=============================================\n",
      "0.55\n"
     ]
    }
   ],
   "source": [
    "\n",
    "rSquare_residual = get_residual(train_set, test_set1, 3)\n"
   ]
  },
  {
   "cell_type": "markdown",
   "id": "bac6f076",
   "metadata": {},
   "source": [
    "#### Q 20. Using the leave one out method, find the adjusted R2, R¯2 of the (p = 2) distance weighted (k = 3)-NN algorithm."
   ]
  },
  {
   "cell_type": "code",
   "execution_count": 37,
   "id": "0c50fdc0",
   "metadata": {},
   "outputs": [
    {
     "name": "stdout",
     "output_type": "stream",
     "text": [
      "\n",
      "Dataset with Predicted values\n",
      "\n",
      "   x  y  g  predicted\n",
      "0  5  2  4   3.000000\n",
      "1  6  5  3   2.615385\n",
      "2  4  2  3   3.634146\n",
      "3  3  3  3   3.109589\n",
      "4  4  7  2   2.034483\n",
      "5  3  6  2   1.981132\n",
      "6  1  8  1   2.132890\n",
      "\n",
      "=============================================\n",
      "Computed adjustedR2 R^2 value\n",
      "=============================================\n",
      "0.64\n"
     ]
    }
   ],
   "source": [
    "\n",
    "rSquare_residual = get_residual(train_set, test_set1, 3, p=2, residual_type ='adjustedR2')\n"
   ]
  },
  {
   "cell_type": "code",
   "execution_count": null,
   "id": "0c08fcd6",
   "metadata": {},
   "outputs": [],
   "source": []
  }
 ],
 "metadata": {
  "kernelspec": {
   "display_name": "Python 3 (ipykernel)",
   "language": "python",
   "name": "python3"
  },
  "language_info": {
   "codemirror_mode": {
    "name": "ipython",
    "version": 3
   },
   "file_extension": ".py",
   "mimetype": "text/x-python",
   "name": "python",
   "nbconvert_exporter": "python",
   "pygments_lexer": "ipython3",
   "version": "3.8.2"
  }
 },
 "nbformat": 4,
 "nbformat_minor": 5
}
